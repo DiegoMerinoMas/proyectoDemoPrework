{
  "nbformat": 4,
  "nbformat_minor": 0,
  "metadata": {
    "colab": {
      "name": "Tarea01.ipynb",
      "provenance": [],
      "authorship_tag": "ABX9TyN3aOaYnsj6lag5+k+WOZS0",
      "include_colab_link": true
    },
    "kernelspec": {
      "name": "python3",
      "display_name": "Python 3"
    },
    "language_info": {
      "name": "python"
    }
  },
  "cells": [
    {
      "cell_type": "markdown",
      "metadata": {
        "id": "view-in-github",
        "colab_type": "text"
      },
      "source": [
        "<a href=\"https://colab.research.google.com/github/DiegoMerinoMas/proyectoDemoPrework/blob/main/Tarea01.ipynb\" target=\"_parent\"><img src=\"https://colab.research.google.com/assets/colab-badge.svg\" alt=\"Open In Colab\"/></a>"
      ]
    },
    {
      "cell_type": "code",
      "execution_count": 8,
      "metadata": {
        "colab": {
          "base_uri": "https://localhost:8080/"
        },
        "id": "EkndrQ1t9loj",
        "outputId": "7834b405-3d03-45de-eee8-257dfa9c069d"
      },
      "outputs": [
        {
          "output_type": "stream",
          "name": "stdout",
          "text": [
            "Overwriting Biblioteca.hpp\n"
          ]
        }
      ],
      "source": [
        "%%writefile Biblioteca.hpp\n",
        "//Definición de la clase y sus funciones\n",
        "#include<iostream>\n",
        "#include<cstdlib>\n",
        "#include<ctime>\n",
        "using namespace std;\n",
        "template <typename Generico>\n",
        "class MiVector\n",
        "{\n",
        "private:\n",
        "    Generico* a;\n",
        "    size_t n;\n",
        "public:\n",
        "    MiVector() {\n",
        "        a = new Generico[10]; \n",
        "        n = 0;\n",
        "    }\n",
        "    ~MiVector() {}\n",
        "    //Funcion que imprime el arreglo\n",
        "    void listar() {\n",
        "        for (size_t i = 0; i < n; i++) {\n",
        "            cout << i << \"->\" << a[i] << \"\\n\";\n",
        "        }\n",
        "        cout << endl;\n",
        "    }\n",
        "    //Funcion que agrega un arreglo manualmente, no sé usa en este main\n",
        "    void insertar(Generico valor) {\n",
        "        if (n == 10) {\n",
        "            cout << \"No se puede insertar mas elementos\\n\";\n",
        "        }\n",
        "        else {\n",
        "            a[n] = valor;\n",
        "            n++;\n",
        "        }\n",
        "    }\n",
        "    //Funcion que ordena el arreglo, es un ordenamiento completamente \n",
        "    //ineficiente, pero es por esta tarea.\n",
        "    void ordenar() {\n",
        "        for (size_t i = 0; i < n; i++) {\n",
        "            for (size_t j = i + 1; j < n; j++) {\n",
        "                if (a[i] > a[j]) {\n",
        "                    Generico* aux = new Generico;\n",
        "                    *aux = a[i];\n",
        "                    a[i] = a[j];\n",
        "                    a[j] = *aux;\n",
        "                    delete aux;\n",
        "                }\n",
        "            }\n",
        "        }\n",
        "    }\n",
        "    //Muestra el elemento mayor\n",
        "    void mayor() {\n",
        "        Generico mayor = a[0];\n",
        "        for (size_t i = 0; i < n; i++) {\n",
        "            if (a[i] > mayor) {\n",
        "                mayor = a[i];\n",
        "            }\n",
        "        }\n",
        "        cout << \"El mayor es: \" << mayor << endl;\n",
        "    }\n",
        "    //Muestra el promedio\n",
        "    void promedio() {\n",
        "        float suma = 0.0f;\n",
        "        for (size_t i = 0; i < n; i++) {\n",
        "            suma += a[i];\n",
        "        }\n",
        "        cout << \"El promedio es: \" << suma / n << endl;\n",
        "    }\n",
        "};"
      ]
    },
    {
      "cell_type": "code",
      "source": [
        "%%writefile main.cpp\n",
        "#include \"Biblioteca.hpp\"\n",
        "int main() {\n",
        "    srand(time(NULL));\n",
        "    MiVector<int> ejemplo01;\n",
        "    MiVector<long> ejemplo02;\n",
        "    MiVector<float> ejemplo03;\n",
        "    cout << endl<<\"Ejemplo 1: Enteros\" << endl;\n",
        "    for (size_t i = 0; i < 10; i++) {\n",
        "        ejemplo01.insertar(rand() % 100);\n",
        "    }\n",
        "    ejemplo01.listar();\n",
        "    cout << \"\\tArreglo ordenado:\" << endl;\n",
        "    ejemplo01.ordenar();\n",
        "    ejemplo01.listar();\n",
        "    ejemplo01.mayor();\n",
        "    ejemplo01.promedio();\n",
        "    cout << endl << \"Ejemplo 2: Largos\" << endl;\n",
        "    for (size_t i = 0; i < 10; i++) {\n",
        "        ejemplo02.insertar((rand() % 100)*10000);\n",
        "    }\n",
        "    ejemplo02.listar();\n",
        "    cout << \"\\tArreglo ordenado:\" << endl;\n",
        "    ejemplo02.ordenar();\n",
        "    ejemplo02.listar();\n",
        "    ejemplo02.mayor();\n",
        "    ejemplo02.promedio();\n",
        "    cout << endl << \"Ejemplo 3: Flotantes\" << endl;\n",
        "    for (size_t i = 0; i < 10; i++) {\n",
        "        ejemplo03.insertar((rand() % 100) * 1.2789);\n",
        "    }\n",
        "    ejemplo03.listar();\n",
        "    cout << \"\\tArreglo ordenado:\" << endl;\n",
        "    ejemplo03.ordenar();\n",
        "    ejemplo03.listar();\n",
        "    ejemplo03.mayor();\n",
        "    ejemplo03.promedio();\n",
        "}"
      ],
      "metadata": {
        "colab": {
          "base_uri": "https://localhost:8080/"
        },
        "id": "r8Gyv9paLctx",
        "outputId": "159a71ae-df19-4e5b-bb2a-45f7830ba8c5"
      },
      "execution_count": 10,
      "outputs": [
        {
          "output_type": "stream",
          "name": "stdout",
          "text": [
            "Overwriting main.cpp\n"
          ]
        }
      ]
    },
    {
      "cell_type": "code",
      "source": [
        "!g++ -std=c++1z main.cpp && ./a.out"
      ],
      "metadata": {
        "colab": {
          "base_uri": "https://localhost:8080/"
        },
        "id": "ZjNw8LEaPhDM",
        "outputId": "4cad05b5-0e96-45e9-acb8-e264682fcf47"
      },
      "execution_count": 11,
      "outputs": [
        {
          "output_type": "stream",
          "name": "stdout",
          "text": [
            "\n",
            "Ejemplo 1: Enteros\n",
            "0->76\n",
            "1->59\n",
            "2->26\n",
            "3->92\n",
            "4->72\n",
            "5->89\n",
            "6->76\n",
            "7->10\n",
            "8->3\n",
            "9->48\n",
            "\n",
            "\tArreglo ordenado:\n",
            "0->3\n",
            "1->10\n",
            "2->26\n",
            "3->48\n",
            "4->59\n",
            "5->72\n",
            "6->76\n",
            "7->76\n",
            "8->89\n",
            "9->92\n",
            "\n",
            "El mayor es: 92\n",
            "El promedio es: 55.1\n",
            "\n",
            "Ejemplo 2: Largos\n",
            "0->670000\n",
            "1->190000\n",
            "2->180000\n",
            "3->970000\n",
            "4->490000\n",
            "5->700000\n",
            "6->650000\n",
            "7->640000\n",
            "8->390000\n",
            "9->490000\n",
            "\n",
            "\tArreglo ordenado:\n",
            "0->180000\n",
            "1->190000\n",
            "2->390000\n",
            "3->490000\n",
            "4->490000\n",
            "5->640000\n",
            "6->650000\n",
            "7->670000\n",
            "8->700000\n",
            "9->970000\n",
            "\n",
            "El mayor es: 970000\n",
            "El promedio es: 537000\n",
            "\n",
            "Ejemplo 3: Flotantes\n",
            "0->28.1358\n",
            "1->40.9248\n",
            "2->8.9523\n",
            "3->43.4826\n",
            "4->12.789\n",
            "5->116.38\n",
            "6->67.7817\n",
            "7->79.2918\n",
            "8->57.5505\n",
            "9->30.6936\n",
            "\n",
            "\tArreglo ordenado:\n",
            "0->8.9523\n",
            "1->12.789\n",
            "2->28.1358\n",
            "3->30.6936\n",
            "4->40.9248\n",
            "5->43.4826\n",
            "6->57.5505\n",
            "7->67.7817\n",
            "8->79.2918\n",
            "9->116.38\n",
            "\n",
            "El mayor es: 116.38\n",
            "El promedio es: 48.5982\n"
          ]
        }
      ]
    }
  ]
}